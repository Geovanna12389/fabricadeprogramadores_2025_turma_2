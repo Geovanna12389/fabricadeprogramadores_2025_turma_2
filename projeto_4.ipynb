{
 "cells": [
  {
   "cell_type": "markdown",
   "id": "f7e6eb37",
   "metadata": {},
   "source": [
    "# 🕵️‍♂️ MISSÃO SINARM: ANÁLISE DE INTELIGÊNCIA\n",
    "## 📋 CONTEXTO DA OPERAÇÃO\n",
    "\n",
    "Caros Aspirantes a Analistas de Dados Forenses,\n",
    "\n",
    "Vocês foram recrutados para uma operação especial da Polícia Federal! Como estagiários do setor de inteligência, sua missão é analisar dados reais de ocorrências envolvendo armas de fogo.\n",
    "\n",
    "### Um arquivo confidencial contendo dados de 2025 acaba de chegar em suas mãos: OCORRENCIAS_2025.csv\n",
    "---\n",
    "## 🎯 OBJETIVO DA MISSÃO\n",
    "\n",
    "Sua tarefa é desenvolver um algoritmo em Python que:\n",
    "\n",
    "    Identifique os tipos de armas (espécies) envolvidas nas ocorrências\n",
    "\n",
    "    Classifique as armas em categorias específicas (calibres)\n",
    "\n",
    "    Conte quantas armas de cada tipo foram apreendidas\n",
    "\n",
    "## 🔍 DADOS DA OPERAÇÃO\n",
    "\n",
    "O arquivo CSV contém as seguintes colunas relevantes:\n",
    "\n",
    "    ESPECIE_ARMA (descrição do tipo de arma)\n",
    "\n",
    "    CALIBRE_ARMA (calibre da arma)\n",
    "\n",
    "    MARCA_ARMA (fabricante da arma)"
   ]
  },
  {
   "cell_type": "code",
   "execution_count": 26,
   "id": "e3270dd8",
   "metadata": {},
   "outputs": [
    {
     "name": "stdout",
     "output_type": "stream",
     "text": [
      "0\n"
     ]
    }
   ],
   "source": [
    "# Seu código aqui:\n",
    "import csv \n",
    "exampleFile = open('ocorrencias_2025.csv')\n",
    "exampleReader = csv.reader(exampleFile, delimiter=';')\n",
    "total_espingarda = 0\n",
    "for row in exampleReader:\n",
    "    if row[6].strip() == 'espingarda':\n",
    "        total_espingarda +=1\n",
    "print(total_espingarda)\n",
    "\n",
    "\n"
   ]
  }
 ],
 "metadata": {
  "kernelspec": {
   "display_name": "Python 3",
   "language": "python",
   "name": "python3"
  },
  "language_info": {
   "codemirror_mode": {
    "name": "ipython",
    "version": 3
   },
   "file_extension": ".py",
   "mimetype": "text/x-python",
   "name": "python",
   "nbconvert_exporter": "python",
   "pygments_lexer": "ipython3",
   "version": "3.13.2"
  }
 },
 "nbformat": 4,
 "nbformat_minor": 5
}
